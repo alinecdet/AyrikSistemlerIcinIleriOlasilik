{
  "nbformat": 4,
  "nbformat_minor": 0,
  "metadata": {
    "colab": {
      "name": "Probability.ipynb",
      "provenance": [],
      "authorship_tag": "ABX9TyPtm0KMSTc5WVCviFY97mPr",
      "include_colab_link": true
    },
    "kernelspec": {
      "name": "python3",
      "display_name": "Python 3"
    },
    "language_info": {
      "name": "python"
    }
  },
  "cells": [
    {
      "cell_type": "markdown",
      "metadata": {
        "id": "view-in-github",
        "colab_type": "text"
      },
      "source": [
        "<a href=\"https://colab.research.google.com/github/alinecdet/AyrikSistemlerIcinIleriOlasilik/blob/main/Probability.ipynb\" target=\"_parent\"><img src=\"https://colab.research.google.com/assets/colab-badge.svg\" alt=\"Open In Colab\"/></a>"
      ]
    },
    {
      "cell_type": "markdown",
      "source": [
        "# **Olasılık Örnekleri**\n",
        "# 1- Yazı Tura\n",
        "Bir para havaya atıldığında yazı veya tura gelme olasılığı kaçtır?"
      ],
      "metadata": {
        "id": "Lbbgr0udgNnT"
      }
    },
    {
      "cell_type": "code",
      "execution_count": 15,
      "metadata": {
        "colab": {
          "base_uri": "https://localhost:8080/"
        },
        "id": "cgmhzhcfgGMm",
        "outputId": "8f7faf82-a2eb-409e-e58d-541aa34a0ce8"
      },
      "outputs": [
        {
          "output_type": "stream",
          "name": "stdout",
          "text": [
            "Yazı gelme olasılığı: 50.5\n",
            "Tura gelme olasılığı: 49.5\n"
          ]
        }
      ],
      "source": [
        "from random import randint\n",
        "yazi, tura = 0, 0\n",
        "for i in range(10000): #deneme sayısı\n",
        "  a = randint(1,2)\n",
        "  if a == 1:\n",
        "    yazi += 1\n",
        "  if a == 2:\n",
        "    tura += 1\n",
        "print(\"Yazı gelme olasılığı:\", 100 * yazi / 10000)\n",
        "print(\"Tura gelme olasılığı:\", 100 * tura / 10000)"
      ]
    },
    {
      "cell_type": "markdown",
      "source": [
        "# 2- Sayı Seçme\n",
        "1-100 aralığında iki sayı seçildiğinde 15 ve 30'dan küçük olma olasılığı nedir?"
      ],
      "metadata": {
        "id": "nK0SyRqcih4l"
      }
    },
    {
      "cell_type": "code",
      "source": [
        "from random import randint\n",
        "count = 0\n",
        "for i in range(10000): #deneme sayısı\n",
        "  a = randint(1,100)\n",
        "  b = randint(1,100)\n",
        "  if a<=15 and b<=30:\n",
        "    count += 1\n",
        "print(\"1-100 aralığında iki sayı seçildiğinde 15 ve 30'dan küçük olma olasılığı:\", 100 * count / 10000)"
      ],
      "metadata": {
        "colab": {
          "base_uri": "https://localhost:8080/"
        },
        "id": "Ew09t6p5jgRi",
        "outputId": "fce181e4-91fe-4b69-caf6-be872b84ff6d"
      },
      "execution_count": 57,
      "outputs": [
        {
          "output_type": "stream",
          "name": "stdout",
          "text": [
            "1-100 aralığında iki sayı seçildiğinde 15 ve 30'dan küçük olma olasılığı: 4.05\n"
          ]
        }
      ]
    },
    {
      "cell_type": "markdown",
      "source": [
        "# 3- Zar Atma\n",
        "Bir zar atıldığında zarın 1 veya 6 gelme olasılığı nedir?"
      ],
      "metadata": {
        "id": "tKTltCdslikR"
      }
    },
    {
      "cell_type": "code",
      "source": [
        "from random import randint\n",
        "count = 0\n",
        "for i in range(10000): #deneme sayısı\n",
        "  zar = randint(1,6)\n",
        "  if zar == 1 or zar == 6:\n",
        "    count += 1\n",
        "print(\"1 veya 6 gelme olasılığı:\", 100 * count / 10000)"
      ],
      "metadata": {
        "colab": {
          "base_uri": "https://localhost:8080/"
        },
        "id": "DvPaVV2clqHI",
        "outputId": "5be9ec10-0cd8-4a4f-bc0e-18e9a659677c"
      },
      "execution_count": 65,
      "outputs": [
        {
          "output_type": "stream",
          "name": "stdout",
          "text": [
            "1 veya 6 gelme olasılığı: 32.94\n"
          ]
        }
      ]
    },
    {
      "cell_type": "markdown",
      "source": [
        "# 4- Top Seçme\n",
        "Bir torbada 2 kırmızı, 3 mavi ve 4 yeşil top bulunmaktadır. Sırayla çekilen 3 toptan her renkten bir top olma olasılığı nedir?"
      ],
      "metadata": {
        "id": "pvhaFrtOovyL"
      }
    },
    {
      "cell_type": "code",
      "source": [
        "from random import randint\n",
        "count = 0\n",
        "for i in range(10000): #deneme sayısı\n",
        "  torba = [\"K\",\"K\",\"M\",\"M\",\"M\",\"Y\",\"Y\",\"Y\",\"Y\"]\n",
        "  secim = torba[randint(0,8)]\n",
        "  torba.remove(secim)\n",
        "  secim2 = torba[randint(0,7)]\n",
        "  torba.remove(secim2)\n",
        "  secim3 = torba[randint(0,6)]\n",
        "  if (secim == \"K\" or secim2 == \"K\" or secim3 == \"K\") and (secim == \"M\" or secim2 == \"M\" or secim3 == \"M\") and (secim == \"Y\" or secim2 == \"Y\" or secim3 == \"Y\"):\n",
        "    count += 1\n",
        "print(\"2 kırmızı, 3 mavi ve 4 yeşil top olan bir torbadan sırayla çekilen 3 toptan her renkten bir renk olma olasılığı:\", 100 * count / 10000)\n"
      ],
      "metadata": {
        "colab": {
          "base_uri": "https://localhost:8080/"
        },
        "id": "Vztqjea1pQJi",
        "outputId": "7796b013-b494-4be2-ed10-7a9ab6d681e6"
      },
      "execution_count": 85,
      "outputs": [
        {
          "output_type": "stream",
          "name": "stdout",
          "text": [
            "2 kırmızı, 3 mavi ve 4 yeşil top olan bir torbadan sırayla çekilen 3 toptan her renkten bir renk olma olasılığı: 29.17\n"
          ]
        }
      ]
    }
  ]
}