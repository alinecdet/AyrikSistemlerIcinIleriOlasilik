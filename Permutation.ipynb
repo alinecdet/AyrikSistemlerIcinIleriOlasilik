{
  "nbformat": 4,
  "nbformat_minor": 0,
  "metadata": {
    "colab": {
      "name": "Permutation.ipynb",
      "provenance": [],
      "authorship_tag": "ABX9TyN4chNvlTEuiueVh6JvN69z",
      "include_colab_link": true
    },
    "kernelspec": {
      "name": "python3",
      "display_name": "Python 3"
    },
    "language_info": {
      "name": "python"
    }
  },
  "cells": [
    {
      "cell_type": "markdown",
      "metadata": {
        "id": "view-in-github",
        "colab_type": "text"
      },
      "source": [
        "<a href=\"https://colab.research.google.com/github/alinecdet/AyrikSistemlerIcinIleriOlasilik/blob/main/Permutation.ipynb\" target=\"_parent\"><img src=\"https://colab.research.google.com/assets/colab-badge.svg\" alt=\"Open In Colab\"/></a>"
      ]
    },
    {
      "cell_type": "markdown",
      "source": [
        "# **Permütasyon**\n",
        "Her sembolün sadece bir kez ya da birkaç kez kullanıldığı sıralı bir dizidir. Permütasyonda elemanların sırası önemlidir .Eleman sayısı n olan bir kümenin içinden r kadar eleman seçerek yapılabilecek permütasyonlar aşağıdaki formülle hesaplanır.\n",
        "\n",
        "![permutation-formula.png](data:image/png;base64,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)\n",
        "\n",
        "-----------------\n",
        "# **Örnek**\n",
        "\n",
        "Bir yangın tatbikatının analizinde kullanılmak üzere 10 kişinin bulunduğu bir ofiste maksimum 2 kişinin yanyana geçiş yapabileceği bir acil çıkış kapısı bulunmaktadır. Kaç farklı şekilde çıkış yapılabilir?\n",
        "\n",
        "# **Çözüm**\n",
        "\n",
        "P(10,2) = 10! / (10 - 2)! = (10 X 9 X 8!) / 8! = 10 X 9 = 90"
      ],
      "metadata": {
        "id": "299E1Q5wGVW-"
      }
    },
    {
      "cell_type": "code",
      "execution_count": null,
      "metadata": {
        "colab": {
          "base_uri": "https://localhost:8080/"
        },
        "id": "5585mzLmEpsu",
        "outputId": "63227632-45c8-42bf-a276-e48eff1998e0"
      },
      "outputs": [
        {
          "output_type": "stream",
          "name": "stdout",
          "text": [
            "90\n"
          ]
        }
      ],
      "source": [
        "def permutasyon(n, r):\n",
        "    sonuc = 1\n",
        "    for i in range(r):\n",
        "        sonuc = sonuc * (n - i)\n",
        "    return sonuc\n",
        "print(permutasyon(10,2))"
      ]
    }
  ]
}