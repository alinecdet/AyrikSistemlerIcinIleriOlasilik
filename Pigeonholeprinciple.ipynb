{
  "nbformat": 4,
  "nbformat_minor": 0,
  "metadata": {
    "colab": {
      "name": "Pigeonholeprinciple.ipynb",
      "provenance": [],
      "authorship_tag": "ABX9TyO04aAg0EQZl3SF+c4T4Z+h",
      "include_colab_link": true
    },
    "kernelspec": {
      "name": "python3",
      "display_name": "Python 3"
    },
    "language_info": {
      "name": "python"
    }
  },
  "cells": [
    {
      "cell_type": "markdown",
      "metadata": {
        "id": "view-in-github",
        "colab_type": "text"
      },
      "source": [
        "<a href=\"https://colab.research.google.com/github/alinecdet/AyrikSistemlerIcinIleriOlasilik/blob/main/Pigeonholeprinciple.ipynb\" target=\"_parent\"><img src=\"https://colab.research.google.com/assets/colab-badge.svg\" alt=\"Open In Colab\"/></a>"
      ]
    },
    {
      "cell_type": "markdown",
      "source": [
        "# **Güvercin Yuvası Prensibi**\n",
        "N ve k pozitif tamsayılar ve N > k olmak üzere N nesne k kutuya yerleştirildiğinde öyle bir kutu vardır ki o kutuda birden çok nesne bulunmak zorundadır. Bu doğru olmasaydı, yani her kutuda en fazla birer nesne olsaydı, k kutuda en fazla k nesne olabilecekti.\n",
        "\n",
        "# **Örnek**\n",
        "400 kişilik bir öğrenci yurdu yapılacaktır ve her odada en fazla 6 öğrenci konaklayabilmesi istenmektedir. En az kaç odaya ihtiyaç vardır?\n",
        "\n",
        "# **Çözüm**\n",
        "\n",
        "400 öğrencinin, her odada en fazla 6 kişi kalacak şekilde yerleşmesi için 400/6=66,66.. yuvarlandığında ise 67 adet odaya bölünmesi gerekir. Öğrenci yurdunda bulunması gereken en az oda sayısı 67 olmalıdır."
      ],
      "metadata": {
        "id": "d2XL2T2W1k_z"
      }
    },
    {
      "cell_type": "code",
      "source": [
        "import math\n",
        "ogrenci=400 #güvercin\n",
        "odakapasite=6 #yuva\n",
        "\n",
        "gerekenoda=math.ceil(ogrenci/odakapasite)\n",
        "print(gerekenoda) "
      ],
      "metadata": {
        "colab": {
          "base_uri": "https://localhost:8080/"
        },
        "id": "VV-Kk4Aw_auk",
        "outputId": "81a5d9f1-bcbd-424c-f5b4-d6830d074805"
      },
      "execution_count": null,
      "outputs": [
        {
          "output_type": "stream",
          "name": "stdout",
          "text": [
            "67\n"
          ]
        }
      ]
    }
  ]
}