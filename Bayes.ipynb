{
  "nbformat": 4,
  "nbformat_minor": 0,
  "metadata": {
    "colab": {
      "name": "Bayes.ipynb",
      "provenance": [],
      "authorship_tag": "ABX9TyMcbXgX5OwDhMSRU5NyGSjE",
      "include_colab_link": true
    },
    "kernelspec": {
      "name": "python3",
      "display_name": "Python 3"
    },
    "language_info": {
      "name": "python"
    }
  },
  "cells": [
    {
      "cell_type": "markdown",
      "metadata": {
        "id": "view-in-github",
        "colab_type": "text"
      },
      "source": [
        "<a href=\"https://colab.research.google.com/github/alinecdet/AyrikSistemlerIcinIleriOlasilik/blob/main/Bayes.ipynb\" target=\"_parent\"><img src=\"https://colab.research.google.com/assets/colab-badge.svg\" alt=\"Open In Colab\"/></a>"
      ]
    },
    {
      "cell_type": "markdown",
      "source": [
        "# **Bayes**\n",
        "Bayes teoremi bir stokastik süreç sırasında ortaya çıkan bir rastgele olay A ile bir diğer rastgele olay B (eğer B için kaybolmamış olasılık varsa) için koşullu olasılıkları ve marjinal olasılıkları arasındaki ilişkidir ve şu şekilde gösterilir:\n",
        "\n",
        "![image.png](data:image/png;base64,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)\n",
        "\n",
        "# **Örnek**\n",
        "\n",
        "Cemil evinden çıktığında kırmızı ışıklarda çiçek satan küçük bir kız görmektedir. Evden çıktığı günlerin %70'inde küçük kızdan çiçek almak üzere 20TL para ayırmaya çalışmaktadır. 20TL ayırdığı günlerin %80'inde, ayırmadığı günlerin %20'sinde kızı orada görmektedir. Cemil'in 20TL ayırdığı bir gün küçük kızın da orada olma olasılığı nedir?\n",
        "\n",
        "# **Çözüm**\n",
        "\n",
        "* P(ParaAyırma) = 0,7\n",
        "* P(ParaUnutma) = 1 - P(ParaAyırma) = 1 - 0,7 = 0,3\n",
        "* P(KızıGörme|ParaAyırma) = 0,8\n",
        "* P(KızıGörme|ParaUnutma) = 0,2\n",
        "* P(KızınOradaOlması) = P(ParaAyırma) * P(KızıGörme|ParaAyirma)  + P(ParaUnutma) * P(KızıGörme|ParaUnutma) = (0,7 * 0,8) + (0,3 * 0,2) = 0,62\n",
        "* P(ParaAyırma|KızıGörme) = ?\n",
        "* P(ParaAyırma|KızıGörme) = P(ParaAyırma) * P(KızıGörme|ParaAyirma) / P(KızınOradaOlması)\n",
        "* P(ParaAyırma|KızıGörme) = 0,7 * 0,8 / 0,62\n",
        "* P(ParaAyırma|KızıGörme) = 0,903"
      ],
      "metadata": {
        "id": "OGNEh75-xNKo"
      }
    },
    {
      "cell_type": "code",
      "execution_count": null,
      "metadata": {
        "colab": {
          "base_uri": "https://localhost:8080/"
        },
        "id": "VFp4syXXxJye",
        "outputId": "c4e89b0f-24f5-4668-c037-617305f79f2f"
      },
      "outputs": [
        {
          "output_type": "execute_result",
          "data": {
            "text/plain": [
              "0.9032258064516128"
            ]
          },
          "metadata": {},
          "execution_count": 3
        }
      ],
      "source": [
        "def bayes(pA,pB,pBA):\n",
        "  return (pA*pBA)/pB\n",
        "\n",
        "pParaAyirma = 0.7\n",
        "pParaUnutma = 1 - pParaAyirma\n",
        "pKiziGormeParaAyirma = 0.8\n",
        "pKiziGormeParaUnutma = 0.2\n",
        "pKiziGorme = (pParaAyirma * pKiziGormeParaAyirma) + (pParaUnutma * pKiziGormeParaUnutma)\n",
        "\n",
        "bayes(pParaAyirma,pKiziGorme,pKiziGormeParaAyirma)"
      ]
    }
  ]
}