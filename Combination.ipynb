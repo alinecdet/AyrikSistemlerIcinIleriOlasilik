{
  "nbformat": 4,
  "nbformat_minor": 0,
  "metadata": {
    "colab": {
      "name": "Combination.ipynb",
      "provenance": [],
      "authorship_tag": "ABX9TyMSlUILrGk8hSPihuQcc+9R",
      "include_colab_link": true
    },
    "kernelspec": {
      "name": "python3",
      "display_name": "Python 3"
    },
    "language_info": {
      "name": "python"
    }
  },
  "cells": [
    {
      "cell_type": "markdown",
      "metadata": {
        "id": "view-in-github",
        "colab_type": "text"
      },
      "source": [
        "<a href=\"https://colab.research.google.com/github/alinecdet/AyrikSistemlerIcinIleriOlasilik/blob/main/Combination.ipynb\" target=\"_parent\"><img src=\"https://colab.research.google.com/assets/colab-badge.svg\" alt=\"Open In Colab\"/></a>"
      ]
    },
    {
      "cell_type": "markdown",
      "source": [
        "# **Kombinasyon**\n",
        "Bir nesne grubu içerisinden sıra gözetmeksizin yapılan seçimlerdir. Nesne grubunun tekabül ettiği kümenin alt kümeleri olarak da tanımlanabilir. Çünkü alt kümelerde sıra önemli değildir. Aşağıdaki formülle hesaplanır.\n",
        "\n",
        "![combination-formula.PNG](data:image/png;base64,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)\n",
        "\n",
        "------------------\n",
        "\n",
        "# **Örnek**\n",
        "12 öğrenci arasından 4erli 3 grup kaç farklı şekilde oturabilir?\n",
        "\n",
        "# **Çözüm**\n",
        "\n",
        "1.   İlk Grup: C(12,4) = 12! / (4! X (12-4)!) = 495\n",
        "2.   İkinci Grup: C(8,4) = 8! / (4! X (8-4)!) = 70\n",
        "3.   Üçüncü Grup: C(4,4) = 4! / (4! X (4-4)!) = 1\n",
        "\n",
        "Sonuç = İlk Grup X İkinci Grup X Üçüncü Grup = 495 X 70 X 1 = 34650"
      ],
      "metadata": {
        "id": "-8aBvi7oXMZv"
      }
    },
    {
      "cell_type": "code",
      "execution_count": 12,
      "metadata": {
        "colab": {
          "base_uri": "https://localhost:8080/"
        },
        "id": "VfyUoN9fXKkb",
        "outputId": "312ad3bc-a11e-4a94-8164-272d7fd5b9aa"
      },
      "outputs": [
        {
          "output_type": "stream",
          "name": "stdout",
          "text": [
            "34650.0\n"
          ]
        }
      ],
      "source": [
        "def faktoriyel(i):\n",
        "    if i==1:       \n",
        "        return 1\n",
        "    else: \n",
        "        return i * faktoriyel(i-1)\n",
        "    \n",
        "def kombinasyon(j,k):\n",
        "    if (j<k):\n",
        "        print(\"1. Sayının 2. Sayıdan büyük yada eşit olması gerekli\")\n",
        "    elif(j==k):\n",
        "        return 1\n",
        "    elif(j>k):\n",
        "        s=1\n",
        "        s= faktoriyel(j) #n faktöriyel\n",
        "        l=1\n",
        "        l= faktoriyel(k) #m faktöriyel\n",
        "        f=1\n",
        "        f= faktoriyel(j-k) #n-m faktöriyel\n",
        "        w=s/(l*f)\n",
        "        return w\n",
        "\n",
        "print(kombinasyon(12,4) * kombinasyon(8,4) * kombinasyon(4,4))"
      ]
    }
  ]
}