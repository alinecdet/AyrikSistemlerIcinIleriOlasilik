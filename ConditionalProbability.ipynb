{
  "nbformat": 4,
  "nbformat_minor": 0,
  "metadata": {
    "colab": {
      "name": "ConditionalProbability.ipynb",
      "provenance": [],
      "authorship_tag": "ABX9TyNtS1kVHVDHsZECbL/uflVM",
      "include_colab_link": true
    },
    "kernelspec": {
      "name": "python3",
      "display_name": "Python 3"
    },
    "language_info": {
      "name": "python"
    }
  },
  "cells": [
    {
      "cell_type": "markdown",
      "metadata": {
        "id": "view-in-github",
        "colab_type": "text"
      },
      "source": [
        "<a href=\"https://colab.research.google.com/github/alinecdet/AyrikSistemlerIcinIleriOlasilik/blob/main/ConditionalProbability.ipynb\" target=\"_parent\"><img src=\"https://colab.research.google.com/assets/colab-badge.svg\" alt=\"Open In Colab\"/></a>"
      ]
    },
    {
      "cell_type": "markdown",
      "source": [
        "# **Koşullu olasılık**\n",
        "Olasılık kuramında, A olayının, bir diğer B olayına koşullu olasılığı (veya B biliniyorken A'nın olasılığı), P(A | B) olarak tanımlanır.\n",
        "\n",
        "![image.png](data:image/png;base64,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)\n",
        "\n",
        "Bu tanımda P(A,B), A ile B olaylarının ortak olasılıklarını, yani her ikisinin de gerçekleşme olasılığını ifade eder.\n",
        "\n",
        "# **Örnek**\n",
        "\n",
        "Bir tavla oyununda atılan zarlardan bir tanesinin 4 veya üzerinde bir sayı geldiğinde, diğer zar ile gelebilecek sayı ile beraber toplamın 7 olma olasılığı nedir?\n",
        "\n",
        "Uzay, 2 zar 6 sayıdan: 36\n",
        "\n",
        "Koşullu uzay: 27\n",
        "* 4,1 1,4\n",
        "* 4,2 2,4\n",
        "* 4,3 3,4\n",
        "* 4,4\n",
        "* 4,5 5,4\n",
        "* 4,6 6,4\n",
        "\n",
        "* 5,1 1,5\n",
        "* 5,2 2,5\n",
        "* 5,3 3,5\n",
        "* 5,4 4,5  ---- 4'te var\n",
        "* 5,5\n",
        "* 5,6 6,5\n",
        "\n",
        "* 6,1 1,6\n",
        "* 6,2 2,6\n",
        "* 6,3 3,6\n",
        "* 6,4 4,6  ---- 4'te var\n",
        "* 6,5 5,6  ---- 5'te var\n",
        "* 6,6\n",
        "\n",
        "Toplamı 7 olan sonuçlar: 6\n",
        "* 4,3 3,4\n",
        "* 5,2 2,5\n",
        "* 6,1 1,6\n",
        "\n",
        "```\n",
        "P(A) = 6/36 = 0,166\n",
        "P(B) = 27/36 = 0,75\n",
        "P(A|B) = P(A n B) / P(B)\n",
        "P(A|B) = 0,166 / 0,75\n",
        "P(A|B) = 0,22\n",
        "```\n"
      ],
      "metadata": {
        "id": "MDSmzAPYlPfe"
      }
    },
    {
      "cell_type": "code",
      "execution_count": 5,
      "metadata": {
        "colab": {
          "base_uri": "https://localhost:8080/"
        },
        "id": "3ow_wVCDlHAx",
        "outputId": "d8729ac5-7b07-4863-8b7b-3b7b888e2d0e"
      },
      "outputs": [
        {
          "output_type": "execute_result",
          "data": {
            "text/plain": [
              "0.2222222222222222"
            ]
          },
          "metadata": {},
          "execution_count": 5
        }
      ],
      "source": [
        "def conditionalProbability(U,A,B):\n",
        "  pA = A / U\n",
        "  pB = B / U\n",
        "  pAnB = pA\n",
        "  pAB = pAnB / pB\n",
        "  return pAB\n",
        "\n",
        "conditionalProbability(36,6,27)"
      ]
    }
  ]
}