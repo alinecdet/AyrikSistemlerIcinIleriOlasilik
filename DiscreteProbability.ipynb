{
  "nbformat": 4,
  "nbformat_minor": 0,
  "metadata": {
    "colab": {
      "name": "DiscreteProbability.ipynb",
      "provenance": [],
      "authorship_tag": "ABX9TyP6VDHC3b5J/0Q2e2DDJHts",
      "include_colab_link": true
    },
    "kernelspec": {
      "name": "python3",
      "display_name": "Python 3"
    },
    "language_info": {
      "name": "python"
    }
  },
  "cells": [
    {
      "cell_type": "markdown",
      "metadata": {
        "id": "view-in-github",
        "colab_type": "text"
      },
      "source": [
        "<a href=\"https://colab.research.google.com/github/alinecdet/AyrikSistemlerIcinIleriOlasilik/blob/main/DiscreteProbability.ipynb\" target=\"_parent\"><img src=\"https://colab.research.google.com/assets/colab-badge.svg\" alt=\"Open In Colab\"/></a>"
      ]
    },
    {
      "cell_type": "markdown",
      "source": [
        "# **KESİKLİ OLASILIK DAĞILIMI**\n",
        "\n",
        "Kesikli bir rassal değişkenin olasılık dağılımına kesikli olasılık dağılımı denir. Bir kesikli rassal değişkenin olasılık dağılımı, olası tüm sonuçlara ve bu sonuçlara ait olasılıklara sahiptir.\n",
        "\n",
        "**Olasılık kütle fonksiyonu (pmf)**\n",
        "\n",
        "Kesikli bir “X” rassal değişkeninin olasılık dağılımı olasılık kütle fonksiyonu (pmf) ile temsil edilir. Olasılık kütle fonksiyonu (pmf) ile bir rassal değişkenin aldığı değerin olasılığı hesaplanabilir.\n",
        "```\n",
        "f(x) = P(X = x)\n",
        "\n",
        "X: Rassal değişken\n",
        "x: Rassal değişkenin aldığı değer\n",
        "```\n",
        "Olasılık kütle fonksiyonu, olasılık değerlerini taşıdığı için olasılık kurallarına uymak zorundadır. Bu kurallar:\n",
        "\n",
        "1.   Her bir olasılık değeri 0 ile 1 arasında olmalıdır. (0≤𝑃(𝑥)≤1)\n",
        "2.   Tüm olasılıkların toplamı 1 olmalıdır. (∑𝑃(𝑥)=1)\n",
        "\n",
        "**Kümülatif (birikimli) dağılım fonksiyonu (cdf)**\n",
        "\n",
        "Kesikli bir rassal değişkenin, en fazla belli bir değere kadar olan olasılıklarının toplamını bulmak için kümülatif (birikimli) dağılım fonksiyonu (cdf) kullanılır.\n",
        "\n",
        "```\n",
        "f(x) = P(X ≤ x) = Σ p(y) y<x\n",
        "\n",
        "X: Rassal değişken\n",
        "x: Rassal değişkenin aldığı değer\n",
        "p(y): X değerine karşılık gelen olasılık değeri\n",
        "```\n",
        "\n",
        "**Beklenen değer(E(X) – 𝜇)**\n",
        "\n",
        "Bir rassal değişkenin ortalama değerine beklenen değer denir. Bir deney defalarca tekrarlandığı zaman gerçekleşmesi beklenen sonuç olarak da ifade edilir.\n",
        "\n",
        "Kesikli bir rassal değişkenin aldığı her bir değerin, o değere karşılık gelen olasılığıyla çarpımlarının toplamı olarak hesaplanır.\n",
        "\n",
        "```\n",
        "E(X) = 𝜇 = Σ x. p(x)\n",
        "\n",
        "X: Rassal değişken\n",
        "x: Rassal değişkenin aldığı değer\n",
        "```\n",
        "\n",
        "**Varyans (Var (X) – σ2)**\n",
        "\n",
        "Bir rassal değişkenin varyansı, rassal değişkenin aldığı olasılık değerlerinin dağılımının ortalama etrafında ne yoğunlukta toplandığını gösterir.\n",
        "\n",
        "```\n",
        "Var(X) = σ2 =  E[X - E[X]2] = E[X2] - [E[X]]2\n",
        "```\n",
        "\n",
        "**`SORU`**\n",
        "\n",
        "Bir okuldaki dönem sonu matematik dersi notlarında;\n",
        "\n",
        "1.   Rasgele seçilen bir öğrencinin notunun 4 olma olasılığı nedir?\n",
        "2.   Rasgele seçilen bir öğrencinin notunun en fazla 2 olma olasılığı nedir?\n",
        "\n",
        "**`ÇÖZÜM`**\n",
        "\n",
        ">Rassal Değişken = Not\n",
        "\n",
        ">Çözüm Uzayı = {0,1,2,3,4,5}\n",
        "\n",
        ">0-5 arasında 100 adet rasgele not üretilir.\n",
        "\n",
        ">Her değerin ne kadar tekrar ettiğinin (frekanslarının) hesaplanması için fonksiyon kullanılır.\n",
        "\n",
        "1.   P(X = 4)\n",
        "2.   P(X <= 2) = P(X = 0) + P(X = 1) + P(X = 2)\n",
        "\n"
      ],
      "metadata": {
        "id": "CbeTiFlFsDpw"
      }
    },
    {
      "cell_type": "code",
      "execution_count": 19,
      "metadata": {
        "colab": {
          "base_uri": "https://localhost:8080/",
          "height": 580
        },
        "id": "OAx-vpeYr65C",
        "outputId": "d589cd27-f172-42b3-e5b3-9163852f3815"
      },
      "outputs": [
        {
          "output_type": "stream",
          "name": "stdout",
          "text": [
            "{2: 16, 5: 19, 3: 19, 4: 14, 0: 19, 1: 13}\n"
          ]
        },
        {
          "output_type": "display_data",
          "data": {
            "text/plain": [
              "<Figure size 842.4x595.44 with 1 Axes>"
            ],
            "image/png": "[encoded data removed]"
          },
          "metadata": {
            "needs_background": "light"
          }
        },
        {
          "output_type": "stream",
          "name": "stdout",
          "text": [
            "Rasgele seçilen bir öğrencinin notunun 4 olma olasılığı: %14\n",
            "Rasgele seçilen bir öğrencinin notunun en fazla 2 olma olasılığı: %48\n"
          ]
        }
      ],
      "source": [
        "import pandas as pd\n",
        "import numpy as np\n",
        "import random\n",
        "import matplotlib.pyplot as plt\n",
        "import seaborn as sns\n",
        "\n",
        "rand_num = [random.randint(0,5) for i in range(100)]\n",
        "\n",
        "def freq_table(lst):\n",
        "    freq_table = {}\n",
        "     \n",
        "    for i in lst:\n",
        "        if i in freq_table:\n",
        "            freq_table[i] += 1\n",
        "        else:\n",
        "            freq_table[i] = 1\n",
        "             \n",
        "    return freq_table\n",
        " \n",
        "rand_freq = freq_table(rand_num)\n",
        " \n",
        "print(rand_freq)\n",
        "\n",
        "vals = [keys for keys, values in rand_freq.items()]\n",
        "freqs = [values for keys, values in rand_freq.items()]\n",
        " \n",
        "prob_df = pd.DataFrame(zip(vals, freqs), columns = [\"values\", \"freqs\"])\n",
        "\n",
        "fig, ax = plt.subplots()\n",
        "fig.set_size_inches(11.7, 8.27)\n",
        " \n",
        "ax = sns.barplot(x=\"values\", y=\"freqs\", data=prob_df, palette = \"rocket\")\n",
        " \n",
        "ax.set_title(\"Kesikli Olasılık Dağılımı\")\n",
        "ax.set_xlabel(\"Değerler\")\n",
        "ax.set_ylabel(\"Olasılıklar\")\n",
        " \n",
        "plt.show()\n",
        "\n",
        "print(\"Rasgele seçilen bir öğrencinin notunun 4 olma olasılığı: %\" + str(prob_df[prob_df[\"values\"] == 4][\"freqs\"].sum()))\n",
        "\n",
        "print(\"Rasgele seçilen bir öğrencinin notunun en fazla 2 olma olasılığı: %\" + str(prob_df[(prob_df[\"values\"] >= 0) & (prob_df[\"values\"] <= 2)][\"freqs\"].sum()))"
      ]
    }
  ]
}